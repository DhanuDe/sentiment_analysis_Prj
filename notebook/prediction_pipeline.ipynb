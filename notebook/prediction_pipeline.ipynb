{
 "cells": [
  {
   "cell_type": "code",
   "execution_count": 31,
   "id": "11917158",
   "metadata": {},
   "outputs": [],
   "source": [
    "import numpy as np\n",
    "import matplotlib.pyplot as plt\n",
    "import pandas as pd\n",
    "import re\n",
    "import string\n",
    "import nltk\n",
    "import pickle"
   ]
  },
  {
   "cell_type": "code",
   "execution_count": 32,
   "id": "e004f32f",
   "metadata": {},
   "outputs": [],
   "source": [
    "def remove_punctuatios(text):\n",
    "    for punctuation in string.punctuation:\n",
    "        text = text.replace(punctuation, '')\n",
    "    return text\n"
   ]
  },
  {
   "cell_type": "code",
   "execution_count": 33,
   "id": "bef0aad4",
   "metadata": {},
   "outputs": [],
   "source": [
    "with open('../static/model/model.pickle', 'rb') as file:\n",
    "    model = pickle.load(file)"
   ]
  },
  {
   "cell_type": "code",
   "execution_count": 34,
   "id": "2b9f6168",
   "metadata": {},
   "outputs": [],
   "source": [
    "with open('../static/model/corpora/stopwords/english', 'r') as file:\n",
    "    sw = file.read().splitlines()"
   ]
  },
  {
   "cell_type": "code",
   "execution_count": 35,
   "id": "68f48430",
   "metadata": {},
   "outputs": [],
   "source": [
    "vocab = pd.read_csv('../static/model/vocab.txt',header = None)\n",
    "tokens = vocab[0].tolist()"
   ]
  },
  {
   "cell_type": "code",
   "execution_count": 36,
   "id": "eaee97f4",
   "metadata": {},
   "outputs": [],
   "source": [
    "from nltk.stem import PorterStemmer\n",
    "ps = PorterStemmer()\n"
   ]
  },
  {
   "cell_type": "code",
   "execution_count": 37,
   "id": "1729c380",
   "metadata": {},
   "outputs": [],
   "source": [
    "def preprocessing(text):\n",
    "    data = pd.DataFrame([text], columns =['tweet'])\n",
    "    data['tweet'] = data['tweet'].apply(lambda x:\" \".join(x.lower() for x in x.split()))\n",
    "    data['tweet'] = data['tweet'].apply(lambda x:\" \".join(re.sub(r'^https?:\\/\\/.*[\\r\\n]*', '', x, flags =re.MULTILINE) for x in x.split()))\n",
    "    data['tweet'] = data['tweet'].apply(remove_punctuatios)\n",
    "    data['tweet'] = data['tweet'].str.replace('\\d+', '',regex = True)\n",
    "    data['tweet'] = data['tweet'].apply(lambda x: \" \".join(x for x in x.split() if x not in sw))\n",
    "    data['tweet'] = data['tweet'].apply(lambda x: \" \".join(ps.stem(x) for x in x.split()))\n",
    "    return data['tweet']"
   ]
  },
  {
   "cell_type": "code",
   "execution_count": 38,
   "id": "67a81812",
   "metadata": {},
   "outputs": [],
   "source": [
    "def vectorizer(ds,vocab):\n",
    "    vec_list = []\n",
    "    \n",
    "    for sent in ds:\n",
    "        sent_list = np.zeros(len(vocab))\n",
    "        \n",
    "        for i in range(len(vocab)):\n",
    "            if vocab[i] in sent.split():\n",
    "                sent_list[i] = 1\n",
    "        vec_list.append(sent_list)\n",
    "    vec_list_new = np.asarray(vec_list,dtype = np.float32)\n",
    "    return vec_list_new"
   ]
  },
  {
   "cell_type": "code",
   "execution_count": 46,
   "id": "b9867ec0",
   "metadata": {},
   "outputs": [],
   "source": [
    "def get_pred(vec_text):\n",
    "    prediction = model.predict(vec_text)\n",
    "    if prediction == 1:\n",
    "        return 'negative'\n",
    "    else:\n",
    "        return 'positive'"
   ]
  },
  {
   "cell_type": "code",
   "execution_count": 43,
   "id": "6144348d",
   "metadata": {},
   "outputs": [],
   "source": [
    "txt = 'Awesome I like it'"
   ]
  },
  {
   "cell_type": "code",
   "execution_count": 47,
   "id": "0c9e44e6",
   "metadata": {},
   "outputs": [],
   "source": [
    "new_text = preprocessing(txt)\n",
    "vec_text = vectorizer(new_text,tokens)\n",
    "prediction = get_pred(vec_text)"
   ]
  },
  {
   "cell_type": "code",
   "execution_count": 48,
   "id": "38a66da9",
   "metadata": {},
   "outputs": [
    {
     "data": {
      "text/plain": [
       "'positive'"
      ]
     },
     "execution_count": 48,
     "metadata": {},
     "output_type": "execute_result"
    }
   ],
   "source": [
    "prediction"
   ]
  },
  {
   "cell_type": "code",
   "execution_count": null,
   "id": "10239c38",
   "metadata": {},
   "outputs": [],
   "source": []
  }
 ],
 "metadata": {
  "kernelspec": {
   "display_name": "Python 3 (ipykernel)",
   "language": "python",
   "name": "python3"
  },
  "language_info": {
   "codemirror_mode": {
    "name": "ipython",
    "version": 3
   },
   "file_extension": ".py",
   "mimetype": "text/x-python",
   "name": "python",
   "nbconvert_exporter": "python",
   "pygments_lexer": "ipython3",
   "version": "3.11.5"
  }
 },
 "nbformat": 4,
 "nbformat_minor": 5
}
